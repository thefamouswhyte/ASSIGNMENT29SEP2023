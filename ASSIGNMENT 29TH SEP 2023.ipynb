{
 "cells": [
  {
   "cell_type": "code",
   "execution_count": null,
   "id": "2e8d61de",
   "metadata": {},
   "outputs": [],
   "source": [
    "# QUESTION 1 (mailing address)"
   ]
  },
  {
   "cell_type": "code",
   "execution_count": null,
   "id": "35517173",
   "metadata": {},
   "outputs": [],
   "source": [
    "name=bobmanuel_Lavers_Whyte\n",
    "address=no18_Reclamation_Rdp_Php\n",
    "print(\"Name:\",name)\n",
    "print(\"Address:\",address)"
   ]
  },
  {
   "cell_type": "code",
   "execution_count": null,
   "id": "ee51128b",
   "metadata": {},
   "outputs": [],
   "source": [
    "# QUESTION 2 (HELLO)"
   ]
  },
  {
   "cell_type": "code",
   "execution_count": null,
   "id": "22142414",
   "metadata": {},
   "outputs": [],
   "source": [
    "name=input(\"what's your name?:\")\n",
    "print(\"Hello,\",name)"
   ]
  },
  {
   "cell_type": "code",
   "execution_count": null,
   "id": "8b5bc9ac",
   "metadata": {},
   "outputs": [],
   "source": [
    "# QUESTION 3(AREA OF A ROOM)"
   ]
  },
  {
   "cell_type": "code",
   "execution_count": null,
   "id": "48a9a77d",
   "metadata": {},
   "outputs": [],
   "source": [
    "area=(lambda x,y: x*y)"
   ]
  },
  {
   "cell_type": "code",
   "execution_count": null,
   "id": "1c59e8f4",
   "metadata": {},
   "outputs": [],
   "source": [
    "area(5.5,5)"
   ]
  },
  {
   "cell_type": "code",
   "execution_count": null,
   "id": "8897eb48",
   "metadata": {},
   "outputs": [],
   "source": [
    "# QUESTION 4 (AREA OF A FIELD)"
   ]
  },
  {
   "cell_type": "code",
   "execution_count": null,
   "id": "b55bb30e",
   "metadata": {},
   "outputs": [],
   "source": [
    "lenght=float(input(\"Enter the lenght:\"))/43560\n",
    "width=float(input(\"Enter the width:\"))/43560\n",
    "area=lenght*width\n",
    "print(\"area:\",area)"
   ]
  },
  {
   "cell_type": "code",
   "execution_count": null,
   "id": "fb18c34a",
   "metadata": {},
   "outputs": [],
   "source": [
    "# QUESTION 5(BOTTLE DEPOSIT)"
   ]
  },
  {
   "cell_type": "code",
   "execution_count": null,
   "id": "3afd2ab8",
   "metadata": {},
   "outputs": [],
   "source": []
  },
  {
   "cell_type": "code",
   "execution_count": null,
   "id": "002dbf9b",
   "metadata": {},
   "outputs": [],
   "source": [
    "# QUESTION 6(TAX AND TIP)"
   ]
  },
  {
   "cell_type": "code",
   "execution_count": null,
   "id": "4c70e5bd",
   "metadata": {},
   "outputs": [],
   "source": [
    "cost_of_meal=float(input(\"Enter the cost of your meal:\"))\n",
    "tax=0.24\n",
    "round(tax,2)\n",
    "print(\"your tax amount:\",tax)\n",
    "tip=(0.18*cost_of_meal)\n",
    "round(tip,2)\n",
    "print(\"your tip is:\",tip)\n",
    "grand_total=(cost_of_meal+tax+tip)\n",
    "round(grand_total,2)\n",
    "print(\"Grand total:\",grand_total)"
   ]
  },
  {
   "cell_type": "code",
   "execution_count": null,
   "id": "51699986",
   "metadata": {},
   "outputs": [],
   "source": [
    "# QUESTION 7(SUM OF THE FIRST N POSITIVE INTEGERS)"
   ]
  },
  {
   "cell_type": "code",
   "execution_count": 3,
   "id": "81183aea",
   "metadata": {},
   "outputs": [
    {
     "name": "stdout",
     "output_type": "stream",
     "text": [
      "Enter an integer:7\n",
      "28.0\n"
     ]
    }
   ],
   "source": [
    "n=int(input(\"Enter an integer:\"))\n",
    "if n<0:\n",
    "    print(\"Please enter a positive number!!\")\n",
    "else:\n",
    "    summ=((n)*(n+1))/2\n",
    "    print(summ)"
   ]
  },
  {
   "cell_type": "code",
   "execution_count": null,
   "id": "ce7215e8",
   "metadata": {},
   "outputs": [],
   "source": [
    "# QUESTION 8(WIDGETS AND GIZMOS)"
   ]
  },
  {
   "cell_type": "code",
   "execution_count": null,
   "id": "5abd0089",
   "metadata": {},
   "outputs": [],
   "source": [
    "widget=float(input(\"Enter number of widget:\"))\n",
    "gizmos=float(input(\"Enter number of gizmos:\"))\n",
    "widget_weight=75\n",
    "gizmos_weight=112\n",
    "total_weight_widget=widget*widget_weight\n",
    "total_weight_gizmos=gizmos*gizmos_weight\n",
    "print(\"total widget weight:\",total_weight_widget)\n",
    "print(\"total gizmos weight:\",total_weight_gizmos)"
   ]
  },
  {
   "cell_type": "code",
   "execution_count": null,
   "id": "8fb3310e",
   "metadata": {},
   "outputs": [],
   "source": [
    "# Question 9 (compound interest)"
   ]
  },
  {
   "cell_type": "code",
   "execution_count": null,
   "id": "1c8f8122",
   "metadata": {},
   "outputs": [],
   "source": [
    "deposit1=float(input(\"Enter a deposit:\"))\n",
    "interest_per_year=0.04\n",
    "k=interest_per_year\n",
    "interest1=deposit1*k\n",
    "round(interest1,2)\n",
    "print(\"first year(s) interest:\",interest1)\n",
    "payout1=deposit1+interest1\n",
    "round(payout1,2)\n",
    "print(\"first year(s) balance:\",payout1)\n",
    "deposit2=payout1\n",
    "print(\"second year(s) deposit:\",deposit2)\n",
    "interest2=deposit2*k\n",
    "round(interest2,2)\n",
    "print(\"second year(s) interest:\",interest2)\n",
    "payout2=deposit2+interest2\n",
    "round(payout2,2)\n",
    "print(\"second year(s) balance:\",payout2)\n",
    "deposit3=payout2\n",
    "print(\"third year(s) deposit:\",deposit3)\n",
    "interest3=deposit3*k\n",
    "round(interest3,2)\n",
    "print(\"third year(s) interest:\",interest3)\n",
    "payout3=deposit3+interest3\n",
    "round(payout3,2)\n",
    "print(\"third year(s) balance:\",payout3)\n",
    "print(\"Congrats!!!\")"
   ]
  },
  {
   "cell_type": "code",
   "execution_count": null,
   "id": "453df081",
   "metadata": {},
   "outputs": [],
   "source": [
    "# Question 10(Arithmetic)"
   ]
  },
  {
   "cell_type": "code",
   "execution_count": null,
   "id": "fdf6e787",
   "metadata": {},
   "outputs": [],
   "source": [
    "integers=(lambda a,b : a+b)"
   ]
  },
  {
   "cell_type": "code",
   "execution_count": null,
   "id": "9fc61fde",
   "metadata": {},
   "outputs": [],
   "source": [
    "integers(6,9)"
   ]
  },
  {
   "cell_type": "code",
   "execution_count": null,
   "id": "98b74f5b",
   "metadata": {},
   "outputs": [],
   "source": [
    "integers=(lambda a,b : b-a)"
   ]
  },
  {
   "cell_type": "code",
   "execution_count": null,
   "id": "821cbd46",
   "metadata": {},
   "outputs": [],
   "source": [
    "integers(6,9)"
   ]
  },
  {
   "cell_type": "code",
   "execution_count": null,
   "id": "3e51bbae",
   "metadata": {},
   "outputs": [],
   "source": [
    "integers=(lambda a,b : a*b)"
   ]
  },
  {
   "cell_type": "code",
   "execution_count": null,
   "id": "aeb2e184",
   "metadata": {},
   "outputs": [],
   "source": [
    "integers(6,9)"
   ]
  },
  {
   "cell_type": "code",
   "execution_count": null,
   "id": "001bdbe0",
   "metadata": {},
   "outputs": [],
   "source": [
    "integers=(lambda a,b : a//b)"
   ]
  },
  {
   "cell_type": "code",
   "execution_count": null,
   "id": "8080a959",
   "metadata": {},
   "outputs": [],
   "source": [
    "integers(6,9)"
   ]
  },
  {
   "cell_type": "code",
   "execution_count": null,
   "id": "b33e29ad",
   "metadata": {},
   "outputs": [],
   "source": [
    "integers=(lambda a,b : a%b)"
   ]
  },
  {
   "cell_type": "code",
   "execution_count": null,
   "id": "b0b6ba03",
   "metadata": {},
   "outputs": [],
   "source": [
    "integers(6,9)"
   ]
  },
  {
   "cell_type": "code",
   "execution_count": null,
   "id": "574c24e3",
   "metadata": {},
   "outputs": [],
   "source": [
    "import math as mth \n",
    "integers=(lambda a,b :mth.log(10)*a )"
   ]
  },
  {
   "cell_type": "code",
   "execution_count": null,
   "id": "4b2f9b86",
   "metadata": {},
   "outputs": [],
   "source": [
    "integers(6,9)"
   ]
  },
  {
   "cell_type": "code",
   "execution_count": null,
   "id": "4ea2a4a1",
   "metadata": {},
   "outputs": [],
   "source": [
    "integers=(lambda a,b : a**b)"
   ]
  },
  {
   "cell_type": "code",
   "execution_count": null,
   "id": "ea3b3408",
   "metadata": {},
   "outputs": [],
   "source": [
    "integers(6,9)"
   ]
  },
  {
   "cell_type": "code",
   "execution_count": null,
   "id": "dd39db40",
   "metadata": {},
   "outputs": [],
   "source": [
    "# Question 11(fuel efficiency)"
   ]
  },
  {
   "cell_type": "code",
   "execution_count": null,
   "id": "bd8ea8b0",
   "metadata": {},
   "outputs": [],
   "source": [
    "american_units=float(input(\"Enter a value:\"))\n",
    "canadian_units=282.481053/american_units\n",
    "print(\"canadian unit is:\",canadian_units)"
   ]
  },
  {
   "cell_type": "code",
   "execution_count": null,
   "id": "31d0230c",
   "metadata": {},
   "outputs": [],
   "source": [
    "# QUESTION 12 (DISTANCE BETWEEN TWO POINTS ON EARTH)"
   ]
  },
  {
   "cell_type": "code",
   "execution_count": null,
   "id": "e5ef485a",
   "metadata": {},
   "outputs": [],
   "source": [
    "latitude1=float(input(\"Enter a value:\"))\n",
    "latitude2=float(input(\"Enter a value:\"))\n",
    "longtitude1=float(input(\"Enter a value:\"))\n",
    "longtitude2=float(input(\"Enter a value:\"))\n",
    "t1=latitude1\n",
    "t2=latitude2\n",
    "g1=longtitude1\n",
    "g2=longtitude2\n",
    "import math as mth\n",
    "distance=6371.01*mth.cos**(-1)*(mth.sin*(t1)*mth.sin*(t2)+mth.cos*(t1)*mth.cos*(t2)*mth.cos*(g1-g2))\n",
    "kilometers=111*distance\n",
    "#print(\"distance in kilometers is:\",kilometers)"
   ]
  },
  {
   "cell_type": "code",
   "execution_count": null,
   "id": "dcebcf9c",
   "metadata": {},
   "outputs": [],
   "source": [
    "# QUESTION 13 (making change)"
   ]
  },
  {
   "cell_type": "code",
   "execution_count": null,
   "id": "d288efc2",
   "metadata": {},
   "outputs": [],
   "source": [
    "purchase=int(input(\"Enter an amount:\"))\n"
   ]
  },
  {
   "cell_type": "code",
   "execution_count": null,
   "id": "40d0ee50",
   "metadata": {},
   "outputs": [],
   "source": [
    "# Question 14(height units)"
   ]
  },
  {
   "cell_type": "code",
   "execution_count": null,
   "id": "272fb986",
   "metadata": {},
   "outputs": [],
   "source": [
    "feet=float(input(\"Enter number of feet:\"))\n",
    "foot_to_inch=feet*12\n",
    "foot_to_cent=foot_to_inch*2.54\n",
    "print(\"Feet to centimeters is:\",foot_to_cent)\n",
    "inches=float(input(\"Enter number of inches:\"))\n",
    "inch_to_cent=inches*2.54\n",
    "print(\"Inches to centimeters is:\",inch_to_cent)"
   ]
  },
  {
   "cell_type": "code",
   "execution_count": null,
   "id": "58426be7",
   "metadata": {},
   "outputs": [],
   "source": [
    "# Question 15(Distance Units)"
   ]
  },
  {
   "cell_type": "code",
   "execution_count": null,
   "id": "30eb7963",
   "metadata": {},
   "outputs": [],
   "source": [
    "measurement_in_feet=float(input(\"Enter a measurement:\"))\n",
    "k=measurement_in_feet\n",
    "d_inches=k*12\n",
    "print(\"Distance in inches is:\",d_inches)\n",
    "d_yards=k/3\n",
    "print(\"Distance in yards is:\",d_yards)\n",
    "d_miles=k/5280\n",
    "print(\"Distance in miles is:\",d_miles)"
   ]
  },
  {
   "cell_type": "code",
   "execution_count": null,
   "id": "20da52dc",
   "metadata": {},
   "outputs": [],
   "source": [
    "# Question 16(area and volume)"
   ]
  },
  {
   "cell_type": "code",
   "execution_count": null,
   "id": "d8600021",
   "metadata": {},
   "outputs": [],
   "source": [
    "radius=float(input(\"Enter a raduis:\"))\n",
    "r=radius\n",
    "import math as mth\n",
    "area=mth.pi*(r**2)\n",
    "print(\"The area of the circle is:\",area)\n",
    "volume=3/4*(mth.pi)*(r**3)\n",
    "print(\"The volume of thr sphere is:\",volume)"
   ]
  },
  {
   "cell_type": "code",
   "execution_count": null,
   "id": "be869ab0",
   "metadata": {},
   "outputs": [],
   "source": [
    "# Question 17(heat capacity)"
   ]
  },
  {
   "cell_type": "code",
   "execution_count": null,
   "id": "4aa0bb0d",
   "metadata": {},
   "outputs": [],
   "source": [
    "# Question 18(volume of a cylinder)"
   ]
  },
  {
   "cell_type": "code",
   "execution_count": 4,
   "id": "d60516e7",
   "metadata": {},
   "outputs": [
    {
     "name": "stdout",
     "output_type": "stream",
     "text": [
      "Enter raduis of cylinder:4\n",
      "Enter height of cylinder:6\n",
      "The volume of the cylinderis: 301.59289474462014\n"
     ]
    }
   ],
   "source": [
    "radius=float(input(\"Enter raduis of cylinder:\"))\n",
    "height=float(input(\"Enter height of cylinder:\"))\n",
    "r=radius\n",
    "h=height\n",
    "import math as mth\n",
    "volume=mth.pi*r**2*h\n",
    "print(\"The volume of the cylinderis:\",volume)"
   ]
  },
  {
   "cell_type": "code",
   "execution_count": null,
   "id": "778c1d1a",
   "metadata": {},
   "outputs": [],
   "source": []
  }
 ],
 "metadata": {
  "kernelspec": {
   "display_name": "Python 3 (ipykernel)",
   "language": "python",
   "name": "python3"
  },
  "language_info": {
   "codemirror_mode": {
    "name": "ipython",
    "version": 3
   },
   "file_extension": ".py",
   "mimetype": "text/x-python",
   "name": "python",
   "nbconvert_exporter": "python",
   "pygments_lexer": "ipython3",
   "version": "3.11.4"
  }
 },
 "nbformat": 4,
 "nbformat_minor": 5
}
